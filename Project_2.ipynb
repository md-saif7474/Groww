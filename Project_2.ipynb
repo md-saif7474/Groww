{
  "cells": [
    {
      "cell_type": "code",
      "execution_count": null,
      "id": "23eedfd7",
      "metadata": {
        "id": "23eedfd7"
      },
      "outputs": [],
      "source": [
        "import pandas as pd\n",
        "import numpy as np\n",
        "import seaborn as sns\n",
        "from matplotlib import pyplot as plt"
      ]
    },
    {
      "cell_type": "code",
      "execution_count": null,
      "id": "70089576",
      "metadata": {
        "scrolled": true,
        "id": "70089576",
        "outputId": "4fbf030d-b2c8-4eea-844a-a6d10177261f"
      },
      "outputs": [
        {
          "data": {
            "text/html": [
              "<div>\n",
              "<style scoped>\n",
              "    .dataframe tbody tr th:only-of-type {\n",
              "        vertical-align: middle;\n",
              "    }\n",
              "\n",
              "    .dataframe tbody tr th {\n",
              "        vertical-align: top;\n",
              "    }\n",
              "\n",
              "    .dataframe thead th {\n",
              "        text-align: right;\n",
              "    }\n",
              "</style>\n",
              "<table border=\"1\" class=\"dataframe\">\n",
              "  <thead>\n",
              "    <tr style=\"text-align: right;\">\n",
              "      <th></th>\n",
              "      <th>Pregnancies</th>\n",
              "      <th>Glucose</th>\n",
              "      <th>BloodPressure</th>\n",
              "      <th>SkinThickness</th>\n",
              "      <th>Insulin</th>\n",
              "      <th>BMI</th>\n",
              "      <th>DiabetesPedigreeFunction</th>\n",
              "      <th>Age</th>\n",
              "      <th>Outcome</th>\n",
              "    </tr>\n",
              "  </thead>\n",
              "  <tbody>\n",
              "    <tr>\n",
              "      <th>0</th>\n",
              "      <td>6</td>\n",
              "      <td>148</td>\n",
              "      <td>72</td>\n",
              "      <td>35</td>\n",
              "      <td>0</td>\n",
              "      <td>33.6</td>\n",
              "      <td>0.627</td>\n",
              "      <td>50</td>\n",
              "      <td>1</td>\n",
              "    </tr>\n",
              "    <tr>\n",
              "      <th>1</th>\n",
              "      <td>1</td>\n",
              "      <td>85</td>\n",
              "      <td>66</td>\n",
              "      <td>29</td>\n",
              "      <td>0</td>\n",
              "      <td>26.6</td>\n",
              "      <td>0.351</td>\n",
              "      <td>31</td>\n",
              "      <td>0</td>\n",
              "    </tr>\n",
              "    <tr>\n",
              "      <th>2</th>\n",
              "      <td>8</td>\n",
              "      <td>183</td>\n",
              "      <td>64</td>\n",
              "      <td>0</td>\n",
              "      <td>0</td>\n",
              "      <td>23.3</td>\n",
              "      <td>0.672</td>\n",
              "      <td>32</td>\n",
              "      <td>1</td>\n",
              "    </tr>\n",
              "    <tr>\n",
              "      <th>3</th>\n",
              "      <td>1</td>\n",
              "      <td>89</td>\n",
              "      <td>66</td>\n",
              "      <td>23</td>\n",
              "      <td>94</td>\n",
              "      <td>28.1</td>\n",
              "      <td>0.167</td>\n",
              "      <td>21</td>\n",
              "      <td>0</td>\n",
              "    </tr>\n",
              "    <tr>\n",
              "      <th>4</th>\n",
              "      <td>0</td>\n",
              "      <td>137</td>\n",
              "      <td>40</td>\n",
              "      <td>35</td>\n",
              "      <td>168</td>\n",
              "      <td>43.1</td>\n",
              "      <td>2.288</td>\n",
              "      <td>33</td>\n",
              "      <td>1</td>\n",
              "    </tr>\n",
              "  </tbody>\n",
              "</table>\n",
              "</div>"
            ],
            "text/plain": [
              "   Pregnancies  Glucose  BloodPressure  SkinThickness  Insulin   BMI  \\\n",
              "0            6      148             72             35        0  33.6   \n",
              "1            1       85             66             29        0  26.6   \n",
              "2            8      183             64              0        0  23.3   \n",
              "3            1       89             66             23       94  28.1   \n",
              "4            0      137             40             35      168  43.1   \n",
              "\n",
              "   DiabetesPedigreeFunction  Age  Outcome  \n",
              "0                     0.627   50        1  \n",
              "1                     0.351   31        0  \n",
              "2                     0.672   32        1  \n",
              "3                     0.167   21        0  \n",
              "4                     2.288   33        1  "
            ]
          },
          "execution_count": 2,
          "metadata": {},
          "output_type": "execute_result"
        }
      ],
      "source": [
        "df1 = pd.read_csv(r\"D:\\diabetes.csv\")\n",
        "df1.head()"
      ]
    },
    {
      "cell_type": "code",
      "execution_count": null,
      "id": "c3053141",
      "metadata": {
        "id": "c3053141",
        "outputId": "e895145e-c4fd-41a5-ff1b-47e4a2413070"
      },
      "outputs": [
        {
          "data": {
            "text/plain": [
              "(768, 9)"
            ]
          },
          "execution_count": 3,
          "metadata": {},
          "output_type": "execute_result"
        }
      ],
      "source": [
        "df1.shape"
      ]
    },
    {
      "cell_type": "code",
      "execution_count": null,
      "id": "a93aa73b",
      "metadata": {
        "scrolled": true,
        "id": "a93aa73b",
        "outputId": "76d228a7-f481-4d20-b963-3f5178deb7ab"
      },
      "outputs": [
        {
          "data": {
            "text/html": [
              "<div>\n",
              "<style scoped>\n",
              "    .dataframe tbody tr th:only-of-type {\n",
              "        vertical-align: middle;\n",
              "    }\n",
              "\n",
              "    .dataframe tbody tr th {\n",
              "        vertical-align: top;\n",
              "    }\n",
              "\n",
              "    .dataframe thead th {\n",
              "        text-align: right;\n",
              "    }\n",
              "</style>\n",
              "<table border=\"1\" class=\"dataframe\">\n",
              "  <thead>\n",
              "    <tr style=\"text-align: right;\">\n",
              "      <th></th>\n",
              "      <th>Pregnancies</th>\n",
              "      <th>Glucose</th>\n",
              "      <th>BloodPressure</th>\n",
              "      <th>SkinThickness</th>\n",
              "      <th>Insulin</th>\n",
              "      <th>BMI</th>\n",
              "      <th>DiabetesPedigreeFunction</th>\n",
              "      <th>Age</th>\n",
              "      <th>Outcome</th>\n",
              "    </tr>\n",
              "  </thead>\n",
              "  <tbody>\n",
              "    <tr>\n",
              "      <th>count</th>\n",
              "      <td>768.000000</td>\n",
              "      <td>768.000000</td>\n",
              "      <td>768.000000</td>\n",
              "      <td>768.000000</td>\n",
              "      <td>768.000000</td>\n",
              "      <td>768.000000</td>\n",
              "      <td>768.000000</td>\n",
              "      <td>768.000000</td>\n",
              "      <td>768.000000</td>\n",
              "    </tr>\n",
              "    <tr>\n",
              "      <th>mean</th>\n",
              "      <td>3.845052</td>\n",
              "      <td>120.894531</td>\n",
              "      <td>69.105469</td>\n",
              "      <td>20.536458</td>\n",
              "      <td>79.799479</td>\n",
              "      <td>31.992578</td>\n",
              "      <td>0.471876</td>\n",
              "      <td>33.240885</td>\n",
              "      <td>0.348958</td>\n",
              "    </tr>\n",
              "    <tr>\n",
              "      <th>std</th>\n",
              "      <td>3.369578</td>\n",
              "      <td>31.972618</td>\n",
              "      <td>19.355807</td>\n",
              "      <td>15.952218</td>\n",
              "      <td>115.244002</td>\n",
              "      <td>7.884160</td>\n",
              "      <td>0.331329</td>\n",
              "      <td>11.760232</td>\n",
              "      <td>0.476951</td>\n",
              "    </tr>\n",
              "    <tr>\n",
              "      <th>min</th>\n",
              "      <td>0.000000</td>\n",
              "      <td>0.000000</td>\n",
              "      <td>0.000000</td>\n",
              "      <td>0.000000</td>\n",
              "      <td>0.000000</td>\n",
              "      <td>0.000000</td>\n",
              "      <td>0.078000</td>\n",
              "      <td>21.000000</td>\n",
              "      <td>0.000000</td>\n",
              "    </tr>\n",
              "    <tr>\n",
              "      <th>25%</th>\n",
              "      <td>1.000000</td>\n",
              "      <td>99.000000</td>\n",
              "      <td>62.000000</td>\n",
              "      <td>0.000000</td>\n",
              "      <td>0.000000</td>\n",
              "      <td>27.300000</td>\n",
              "      <td>0.243750</td>\n",
              "      <td>24.000000</td>\n",
              "      <td>0.000000</td>\n",
              "    </tr>\n",
              "    <tr>\n",
              "      <th>50%</th>\n",
              "      <td>3.000000</td>\n",
              "      <td>117.000000</td>\n",
              "      <td>72.000000</td>\n",
              "      <td>23.000000</td>\n",
              "      <td>30.500000</td>\n",
              "      <td>32.000000</td>\n",
              "      <td>0.372500</td>\n",
              "      <td>29.000000</td>\n",
              "      <td>0.000000</td>\n",
              "    </tr>\n",
              "    <tr>\n",
              "      <th>75%</th>\n",
              "      <td>6.000000</td>\n",
              "      <td>140.250000</td>\n",
              "      <td>80.000000</td>\n",
              "      <td>32.000000</td>\n",
              "      <td>127.250000</td>\n",
              "      <td>36.600000</td>\n",
              "      <td>0.626250</td>\n",
              "      <td>41.000000</td>\n",
              "      <td>1.000000</td>\n",
              "    </tr>\n",
              "    <tr>\n",
              "      <th>max</th>\n",
              "      <td>17.000000</td>\n",
              "      <td>199.000000</td>\n",
              "      <td>122.000000</td>\n",
              "      <td>99.000000</td>\n",
              "      <td>846.000000</td>\n",
              "      <td>67.100000</td>\n",
              "      <td>2.420000</td>\n",
              "      <td>81.000000</td>\n",
              "      <td>1.000000</td>\n",
              "    </tr>\n",
              "  </tbody>\n",
              "</table>\n",
              "</div>"
            ],
            "text/plain": [
              "       Pregnancies     Glucose  BloodPressure  SkinThickness     Insulin  \\\n",
              "count   768.000000  768.000000     768.000000     768.000000  768.000000   \n",
              "mean      3.845052  120.894531      69.105469      20.536458   79.799479   \n",
              "std       3.369578   31.972618      19.355807      15.952218  115.244002   \n",
              "min       0.000000    0.000000       0.000000       0.000000    0.000000   \n",
              "25%       1.000000   99.000000      62.000000       0.000000    0.000000   \n",
              "50%       3.000000  117.000000      72.000000      23.000000   30.500000   \n",
              "75%       6.000000  140.250000      80.000000      32.000000  127.250000   \n",
              "max      17.000000  199.000000     122.000000      99.000000  846.000000   \n",
              "\n",
              "              BMI  DiabetesPedigreeFunction         Age     Outcome  \n",
              "count  768.000000                768.000000  768.000000  768.000000  \n",
              "mean    31.992578                  0.471876   33.240885    0.348958  \n",
              "std      7.884160                  0.331329   11.760232    0.476951  \n",
              "min      0.000000                  0.078000   21.000000    0.000000  \n",
              "25%     27.300000                  0.243750   24.000000    0.000000  \n",
              "50%     32.000000                  0.372500   29.000000    0.000000  \n",
              "75%     36.600000                  0.626250   41.000000    1.000000  \n",
              "max     67.100000                  2.420000   81.000000    1.000000  "
            ]
          },
          "execution_count": 4,
          "metadata": {},
          "output_type": "execute_result"
        }
      ],
      "source": [
        "df1.describe()"
      ]
    },
    {
      "cell_type": "code",
      "execution_count": null,
      "id": "3cdb9a39",
      "metadata": {
        "scrolled": true,
        "id": "3cdb9a39",
        "outputId": "30097e75-471f-4fd4-ea98-8900ad21a250"
      },
      "outputs": [
        {
          "data": {
            "text/plain": [
              "Pregnancies                 0\n",
              "Glucose                     0\n",
              "BloodPressure               0\n",
              "SkinThickness               0\n",
              "Insulin                     0\n",
              "BMI                         0\n",
              "DiabetesPedigreeFunction    0\n",
              "Age                         0\n",
              "Outcome                     0\n",
              "dtype: int64"
            ]
          },
          "execution_count": 5,
          "metadata": {},
          "output_type": "execute_result"
        }
      ],
      "source": [
        "df1.isnull().sum()"
      ]
    },
    {
      "cell_type": "code",
      "execution_count": null,
      "id": "425df60e",
      "metadata": {
        "id": "425df60e",
        "outputId": "435f892a-2c64-4bf7-fbac-2b689ebeb534"
      },
      "outputs": [
        {
          "data": {
            "text/plain": [
              "<AxesSubplot:xlabel='Outcome', ylabel='count'>"
            ]
          },
          "execution_count": 6,
          "metadata": {},
          "output_type": "execute_result"
        },
        {
          "data": {
            "image/png": "[encoded data removed]",
            "text/plain": [
              "<Figure size 432x288 with 1 Axes>"
            ]
          },
          "metadata": {
            "needs_background": "light"
          },
          "output_type": "display_data"
        }
      ],
      "source": [
        "sns.countplot(x='Outcome',data = df1)"
      ]
    },
    {
      "cell_type": "code",
      "execution_count": null,
      "id": "b8e59faa",
      "metadata": {
        "id": "b8e59faa",
        "outputId": "b8ba302e-877f-463e-d564-9dea2130ec66"
      },
      "outputs": [
        {
          "data": {
            "text/plain": [
              "Outcome\n",
              "0    500\n",
              "1    268\n",
              "Name: Outcome, dtype: int64"
            ]
          },
          "execution_count": 7,
          "metadata": {},
          "output_type": "execute_result"
        }
      ],
      "source": [
        "stats = df1.groupby('Outcome')['Outcome'].agg('count')\n",
        "stats"
      ]
    },
    {
      "cell_type": "code",
      "execution_count": null,
      "id": "b37441b7",
      "metadata": {
        "id": "b37441b7",
        "outputId": "c5000cbc-98fd-42b3-f689-a1b4c3943065"
      },
      "outputs": [
        {
          "data": {
            "text/html": [
              "<div>\n",
              "<style scoped>\n",
              "    .dataframe tbody tr th:only-of-type {\n",
              "        vertical-align: middle;\n",
              "    }\n",
              "\n",
              "    .dataframe tbody tr th {\n",
              "        vertical-align: top;\n",
              "    }\n",
              "\n",
              "    .dataframe thead th {\n",
              "        text-align: right;\n",
              "    }\n",
              "</style>\n",
              "<table border=\"1\" class=\"dataframe\">\n",
              "  <thead>\n",
              "    <tr style=\"text-align: right;\">\n",
              "      <th></th>\n",
              "      <th>Pregnancies</th>\n",
              "      <th>Glucose</th>\n",
              "      <th>BloodPressure</th>\n",
              "      <th>SkinThickness</th>\n",
              "      <th>Insulin</th>\n",
              "      <th>BMI</th>\n",
              "      <th>DiabetesPedigreeFunction</th>\n",
              "      <th>Age</th>\n",
              "    </tr>\n",
              "  </thead>\n",
              "  <tbody>\n",
              "    <tr>\n",
              "      <th>0</th>\n",
              "      <td>6</td>\n",
              "      <td>148</td>\n",
              "      <td>72</td>\n",
              "      <td>35</td>\n",
              "      <td>0</td>\n",
              "      <td>33.6</td>\n",
              "      <td>0.627</td>\n",
              "      <td>50</td>\n",
              "    </tr>\n",
              "    <tr>\n",
              "      <th>1</th>\n",
              "      <td>1</td>\n",
              "      <td>85</td>\n",
              "      <td>66</td>\n",
              "      <td>29</td>\n",
              "      <td>0</td>\n",
              "      <td>26.6</td>\n",
              "      <td>0.351</td>\n",
              "      <td>31</td>\n",
              "    </tr>\n",
              "    <tr>\n",
              "      <th>2</th>\n",
              "      <td>8</td>\n",
              "      <td>183</td>\n",
              "      <td>64</td>\n",
              "      <td>0</td>\n",
              "      <td>0</td>\n",
              "      <td>23.3</td>\n",
              "      <td>0.672</td>\n",
              "      <td>32</td>\n",
              "    </tr>\n",
              "    <tr>\n",
              "      <th>3</th>\n",
              "      <td>1</td>\n",
              "      <td>89</td>\n",
              "      <td>66</td>\n",
              "      <td>23</td>\n",
              "      <td>94</td>\n",
              "      <td>28.1</td>\n",
              "      <td>0.167</td>\n",
              "      <td>21</td>\n",
              "    </tr>\n",
              "    <tr>\n",
              "      <th>4</th>\n",
              "      <td>0</td>\n",
              "      <td>137</td>\n",
              "      <td>40</td>\n",
              "      <td>35</td>\n",
              "      <td>168</td>\n",
              "      <td>43.1</td>\n",
              "      <td>2.288</td>\n",
              "      <td>33</td>\n",
              "    </tr>\n",
              "  </tbody>\n",
              "</table>\n",
              "</div>"
            ],
            "text/plain": [
              "   Pregnancies  Glucose  BloodPressure  SkinThickness  Insulin   BMI  \\\n",
              "0            6      148             72             35        0  33.6   \n",
              "1            1       85             66             29        0  26.6   \n",
              "2            8      183             64              0        0  23.3   \n",
              "3            1       89             66             23       94  28.1   \n",
              "4            0      137             40             35      168  43.1   \n",
              "\n",
              "   DiabetesPedigreeFunction  Age  \n",
              "0                     0.627   50  \n",
              "1                     0.351   31  \n",
              "2                     0.672   32  \n",
              "3                     0.167   21  \n",
              "4                     2.288   33  "
            ]
          },
          "execution_count": 8,
          "metadata": {},
          "output_type": "execute_result"
        }
      ],
      "source": [
        "x1=df1.drop('Outcome',axis = \"columns\")\n",
        "x1.head()"
      ]
    },
    {
      "cell_type": "code",
      "execution_count": null,
      "id": "c777c971",
      "metadata": {
        "scrolled": true,
        "id": "c777c971",
        "outputId": "f1634ed5-1727-45ca-d70f-76412c900fe3"
      },
      "outputs": [
        {
          "data": {
            "text/plain": [
              "0    1\n",
              "1    0\n",
              "2    1\n",
              "3    0\n",
              "4    1\n",
              "Name: Outcome, dtype: int64"
            ]
          },
          "execution_count": 9,
          "metadata": {},
          "output_type": "execute_result"
        }
      ],
      "source": [
        "y1 = df1.Outcome\n",
        "y1.head()"
      ]
    },
    {
      "cell_type": "code",
      "execution_count": null,
      "id": "475506e8",
      "metadata": {
        "id": "475506e8",
        "outputId": "595f04c6-1221-4bbb-d76a-c5571d2298da"
      },
      "outputs": [
        {
          "data": {
            "text/plain": [
              "((537, 8), (231, 8))"
            ]
          },
          "execution_count": 10,
          "metadata": {},
          "output_type": "execute_result"
        }
      ],
      "source": [
        "# separate dataset into train and test\n",
        "from sklearn.model_selection import train_test_split\n",
        "x1_train, x1_test, y1_train, y1_test = train_test_split(\n",
        "    x1,\n",
        "    y1,\n",
        "    test_size=0.3,\n",
        "    random_state=0)\n",
        "\n",
        "x1_train.shape, x1_test.shape"
      ]
    },
    {
      "cell_type": "code",
      "execution_count": null,
      "id": "1fd1857b",
      "metadata": {
        "scrolled": true,
        "id": "1fd1857b",
        "outputId": "73118f47-e560-40d1-fe39-57badd17df46"
      },
      "outputs": [
        {
          "data": {
            "text/html": [
              "<div>\n",
              "<style scoped>\n",
              "    .dataframe tbody tr th:only-of-type {\n",
              "        vertical-align: middle;\n",
              "    }\n",
              "\n",
              "    .dataframe tbody tr th {\n",
              "        vertical-align: top;\n",
              "    }\n",
              "\n",
              "    .dataframe thead th {\n",
              "        text-align: right;\n",
              "    }\n",
              "</style>\n",
              "<table border=\"1\" class=\"dataframe\">\n",
              "  <thead>\n",
              "    <tr style=\"text-align: right;\">\n",
              "      <th></th>\n",
              "      <th>Pregnancies</th>\n",
              "      <th>Glucose</th>\n",
              "      <th>BloodPressure</th>\n",
              "      <th>SkinThickness</th>\n",
              "      <th>Insulin</th>\n",
              "      <th>BMI</th>\n",
              "      <th>DiabetesPedigreeFunction</th>\n",
              "      <th>Age</th>\n",
              "    </tr>\n",
              "  </thead>\n",
              "  <tbody>\n",
              "    <tr>\n",
              "      <th>Pregnancies</th>\n",
              "      <td>1.000000</td>\n",
              "      <td>0.133796</td>\n",
              "      <td>0.135395</td>\n",
              "      <td>-0.087961</td>\n",
              "      <td>-0.084711</td>\n",
              "      <td>-0.020281</td>\n",
              "      <td>-0.046851</td>\n",
              "      <td>0.534801</td>\n",
              "    </tr>\n",
              "    <tr>\n",
              "      <th>Glucose</th>\n",
              "      <td>0.133796</td>\n",
              "      <td>1.000000</td>\n",
              "      <td>0.152033</td>\n",
              "      <td>0.060085</td>\n",
              "      <td>0.333523</td>\n",
              "      <td>0.242622</td>\n",
              "      <td>0.125547</td>\n",
              "      <td>0.282401</td>\n",
              "    </tr>\n",
              "    <tr>\n",
              "      <th>BloodPressure</th>\n",
              "      <td>0.135395</td>\n",
              "      <td>0.152033</td>\n",
              "      <td>1.000000</td>\n",
              "      <td>0.204938</td>\n",
              "      <td>0.070660</td>\n",
              "      <td>0.284280</td>\n",
              "      <td>0.060239</td>\n",
              "      <td>0.220459</td>\n",
              "    </tr>\n",
              "    <tr>\n",
              "      <th>SkinThickness</th>\n",
              "      <td>-0.087961</td>\n",
              "      <td>0.060085</td>\n",
              "      <td>0.204938</td>\n",
              "      <td>1.000000</td>\n",
              "      <td>0.428738</td>\n",
              "      <td>0.415556</td>\n",
              "      <td>0.181830</td>\n",
              "      <td>-0.156725</td>\n",
              "    </tr>\n",
              "    <tr>\n",
              "      <th>Insulin</th>\n",
              "      <td>-0.084711</td>\n",
              "      <td>0.333523</td>\n",
              "      <td>0.070660</td>\n",
              "      <td>0.428738</td>\n",
              "      <td>1.000000</td>\n",
              "      <td>0.188615</td>\n",
              "      <td>0.192464</td>\n",
              "      <td>-0.062404</td>\n",
              "    </tr>\n",
              "    <tr>\n",
              "      <th>BMI</th>\n",
              "      <td>-0.020281</td>\n",
              "      <td>0.242622</td>\n",
              "      <td>0.284280</td>\n",
              "      <td>0.415556</td>\n",
              "      <td>0.188615</td>\n",
              "      <td>1.000000</td>\n",
              "      <td>0.153093</td>\n",
              "      <td>0.001750</td>\n",
              "    </tr>\n",
              "    <tr>\n",
              "      <th>DiabetesPedigreeFunction</th>\n",
              "      <td>-0.046851</td>\n",
              "      <td>0.125547</td>\n",
              "      <td>0.060239</td>\n",
              "      <td>0.181830</td>\n",
              "      <td>0.192464</td>\n",
              "      <td>0.153093</td>\n",
              "      <td>1.000000</td>\n",
              "      <td>0.042145</td>\n",
              "    </tr>\n",
              "    <tr>\n",
              "      <th>Age</th>\n",
              "      <td>0.534801</td>\n",
              "      <td>0.282401</td>\n",
              "      <td>0.220459</td>\n",
              "      <td>-0.156725</td>\n",
              "      <td>-0.062404</td>\n",
              "      <td>0.001750</td>\n",
              "      <td>0.042145</td>\n",
              "      <td>1.000000</td>\n",
              "    </tr>\n",
              "  </tbody>\n",
              "</table>\n",
              "</div>"
            ],
            "text/plain": [
              "                          Pregnancies   Glucose  BloodPressure  SkinThickness  \\\n",
              "Pregnancies                  1.000000  0.133796       0.135395      -0.087961   \n",
              "Glucose                      0.133796  1.000000       0.152033       0.060085   \n",
              "BloodPressure                0.135395  0.152033       1.000000       0.204938   \n",
              "SkinThickness               -0.087961  0.060085       0.204938       1.000000   \n",
              "Insulin                     -0.084711  0.333523       0.070660       0.428738   \n",
              "BMI                         -0.020281  0.242622       0.284280       0.415556   \n",
              "DiabetesPedigreeFunction    -0.046851  0.125547       0.060239       0.181830   \n",
              "Age                          0.534801  0.282401       0.220459      -0.156725   \n",
              "\n",
              "                           Insulin       BMI  DiabetesPedigreeFunction  \\\n",
              "Pregnancies              -0.084711 -0.020281                 -0.046851   \n",
              "Glucose                   0.333523  0.242622                  0.125547   \n",
              "BloodPressure             0.070660  0.284280                  0.060239   \n",
              "SkinThickness             0.428738  0.415556                  0.181830   \n",
              "Insulin                   1.000000  0.188615                  0.192464   \n",
              "BMI                       0.188615  1.000000                  0.153093   \n",
              "DiabetesPedigreeFunction  0.192464  0.153093                  1.000000   \n",
              "Age                      -0.062404  0.001750                  0.042145   \n",
              "\n",
              "                               Age  \n",
              "Pregnancies               0.534801  \n",
              "Glucose                   0.282401  \n",
              "BloodPressure             0.220459  \n",
              "SkinThickness            -0.156725  \n",
              "Insulin                  -0.062404  \n",
              "BMI                       0.001750  \n",
              "DiabetesPedigreeFunction  0.042145  \n",
              "Age                       1.000000  "
            ]
          },
          "execution_count": 11,
          "metadata": {},
          "output_type": "execute_result"
        }
      ],
      "source": [
        "x1_train.corr()"
      ]
    },
    {
      "cell_type": "code",
      "execution_count": null,
      "id": "f886e67c",
      "metadata": {
        "id": "f886e67c",
        "outputId": "3ed0dc94-227f-45a1-9be0-cb452c28b4b6"
      },
      "outputs": [
        {
          "data": {
            "image/png": "[encoded data removed]",
            "text/plain": [
              "<Figure size 720x720 with 2 Axes>"
            ]
          },
          "metadata": {
            "needs_background": "light"
          },
          "output_type": "display_data"
        }
      ],
      "source": [
        "#Using Pearson Correlation\n",
        "plt.figure(figsize=(10,10))\n",
        "cor = x1_train.corr()\n",
        "sns.heatmap(cor, annot=True, cmap=plt.cm.CMRmap_r)\n",
        "plt.show()"
      ]
    },
    {
      "cell_type": "code",
      "execution_count": null,
      "id": "4f2d959d",
      "metadata": {
        "id": "4f2d959d"
      },
      "outputs": [],
      "source": [
        "def correlation(dataset, threshold):\n",
        "    col_corr = set()  # Set of all the names of correlated columns\n",
        "    corr_matrix = dataset.corr()\n",
        "    for i in range(len(corr_matrix.columns)):\n",
        "        for j in range(i):\n",
        "            if abs(corr_matrix.iloc[i, j]) > threshold: # we are interested in absolute coeff value\n",
        "                colname = corr_matrix.columns[i]  # getting the name of column\n",
        "                col_corr.add(colname)\n",
        "    return col_corr"
      ]
    },
    {
      "cell_type": "code",
      "execution_count": null,
      "id": "331c6c7b",
      "metadata": {
        "id": "331c6c7b",
        "outputId": "e535b7ed-1e34-4caf-bd7d-8a45cbd75e42"
      },
      "outputs": [
        {
          "data": {
            "text/plain": [
              "3"
            ]
          },
          "execution_count": 14,
          "metadata": {},
          "output_type": "execute_result"
        }
      ],
      "source": [
        "corr_features = correlation(x1_train, 0.4)\n",
        "len(set(corr_features))"
      ]
    },
    {
      "cell_type": "code",
      "execution_count": null,
      "id": "f7778b63",
      "metadata": {
        "id": "f7778b63",
        "outputId": "d2fafabf-8b49-4cde-d61a-473923b47b02"
      },
      "outputs": [
        {
          "data": {
            "text/plain": [
              "{'Age', 'BMI', 'Insulin'}"
            ]
          },
          "execution_count": 15,
          "metadata": {},
          "output_type": "execute_result"
        }
      ],
      "source": [
        "corr_features"
      ]
    },
    {
      "cell_type": "code",
      "execution_count": null,
      "id": "f3570d84",
      "metadata": {
        "scrolled": true,
        "id": "f3570d84",
        "outputId": "e7b9dd68-c7aa-4e68-f9d4-108b4ee6b56e"
      },
      "outputs": [
        {
          "data": {
            "text/plain": [
              "Text(0.5, 1.0, 'Glucose')"
            ]
          },
          "execution_count": 32,
          "metadata": {},
          "output_type": "execute_result"
        },
        {
          "data": {
            "text/plain": [
              "<Figure size 1152x432 with 0 Axes>"
            ]
          },
          "metadata": {},
          "output_type": "display_data"
        },
        {
          "data": {
            "image/png": "[encoded data removed]",
            "text/plain": [
              "<Figure size 360x360 with 1 Axes>"
            ]
          },
          "metadata": {
            "needs_background": "light"
          },
          "output_type": "display_data"
        }
      ],
      "source": [
        "#glucose for diabetic\n",
        "fig = plt.figure(figsize =(16,6))\n",
        "\n",
        "sns.displot(df1[\"Glucose\"][df1[\"Outcome\"] == 1])\n",
        "plt.xticks([i for i in range(0,201,15)],rotation = 45)\n",
        "plt.ylabel(\"Glucose count\")\n",
        "plt.title(\"Glucose\",fontsize = 20)"
      ]
    },
    {
      "cell_type": "code",
      "execution_count": null,
      "id": "09fc3a3a",
      "metadata": {
        "id": "09fc3a3a",
        "outputId": "36f4adc5-d3c8-48d3-b594-80c56e588d56"
      },
      "outputs": [
        {
          "data": {
            "text/plain": [
              "Text(0.5, 1.0, 'Insulin')"
            ]
          },
          "execution_count": 31,
          "metadata": {},
          "output_type": "execute_result"
        },
        {
          "data": {
            "text/plain": [
              "<Figure size 1152x432 with 0 Axes>"
            ]
          },
          "metadata": {},
          "output_type": "display_data"
        },
        {
          "data": {
            "image/png": "[encoded data removed]",
            "text/plain": [
              "<Figure size 360x360 with 1 Axes>"
            ]
          },
          "metadata": {
            "needs_background": "light"
          },
          "output_type": "display_data"
        }
      ],
      "source": [
        "#insulin for diabetic \n",
        "\n",
        "fig = plt.figure(figsize = (16,6))\n",
        "\n",
        "sns.displot(df1[\"Insulin\"][df1[\"Outcome\"]==1])\n",
        "plt.xticks()\n",
        "plt.title(\"Insulin\",fontsize = 20)"
      ]
    },
    {
      "cell_type": "code",
      "execution_count": null,
      "id": "283d1a27",
      "metadata": {
        "scrolled": true,
        "id": "283d1a27",
        "outputId": "aed66cc8-4291-4953-818d-9f93726cda9c"
      },
      "outputs": [
        {
          "data": {
            "text/plain": [
              "Text(0.5, 1.0, 'BMI')"
            ]
          },
          "execution_count": 33,
          "metadata": {},
          "output_type": "execute_result"
        },
        {
          "data": {
            "text/plain": [
              "<Figure size 1152x432 with 0 Axes>"
            ]
          },
          "metadata": {},
          "output_type": "display_data"
        },
        {
          "data": {
            "image/png": "[encoded data removed]",
            "text/plain": [
              "<Figure size 360x360 with 1 Axes>"
            ]
          },
          "metadata": {
            "needs_background": "light"
          },
          "output_type": "display_data"
        }
      ],
      "source": [
        "#BMI for diabetic\n",
        "fig = plt.figure(figsize =(16,6))\n",
        "\n",
        "sns.displot(df1[\"BMI\"][df1[\"Outcome\"]==1])\n",
        "plt.xticks()\n",
        "plt.title(\"BMI\",fontsize = 20)"
      ]
    },
    {
      "cell_type": "code",
      "execution_count": null,
      "id": "fc6af7e6",
      "metadata": {
        "id": "fc6af7e6",
        "outputId": "883ebb78-01b8-44b3-82a9-a245a76a4919"
      },
      "outputs": [
        {
          "data": {
            "text/plain": [
              "Text(0.5, 1.0, 'diabetespedigreefunction')"
            ]
          },
          "execution_count": 44,
          "metadata": {},
          "output_type": "execute_result"
        },
        {
          "data": {
            "text/plain": [
              "<Figure size 2160x1440 with 0 Axes>"
            ]
          },
          "metadata": {},
          "output_type": "display_data"
        },
        {
          "data": {
            "image/png": "[encoded data removed]",
            "text/plain": [
              "<Figure size 360x360 with 1 Axes>"
            ]
          },
          "metadata": {
            "needs_background": "light"
          },
          "output_type": "display_data"
        }
      ],
      "source": [
        "#diabeticpedigreefunction for diabetic\n",
        "fig = plt.figure(figsize = (30,20))\n",
        "sns.displot(df1[\"DiabetesPedigreeFunction\"][df1[\"Outcome\"] == 1])\n",
        "plt.xticks([i*0.2 for i in range(1,15)])\n",
        "plt.title(\"diabetespedigreefunction\")"
      ]
    },
    {
      "cell_type": "code",
      "execution_count": null,
      "id": "8bd8da05",
      "metadata": {
        "id": "8bd8da05",
        "outputId": "63a381a3-a33d-4938-f7bb-bd3a17487f02"
      },
      "outputs": [
        {
          "data": {
            "text/plain": [
              "Text(0.5, 1.0, 'BloodPressure')"
            ]
          },
          "execution_count": 62,
          "metadata": {},
          "output_type": "execute_result"
        },
        {
          "data": {
            "text/plain": [
              "<Figure size 1152x432 with 0 Axes>"
            ]
          },
          "metadata": {},
          "output_type": "display_data"
        },
        {
          "data": {
            "image/png": "[encoded data removed]",
            "text/plain": [
              "<Figure size 360x360 with 1 Axes>"
            ]
          },
          "metadata": {
            "needs_background": "light"
          },
          "output_type": "display_data"
        }
      ],
      "source": [
        "fig = plt.figure(figsize =(16,6))\n",
        "\n",
        "sns.displot(df1[\"BloodPressure\"][df1[\"Outcome\"] == 1])\n",
        "plt.title(\"BloodPressure\")"
      ]
    },
    {
      "cell_type": "code",
      "execution_count": null,
      "id": "6516b32d",
      "metadata": {
        "id": "6516b32d",
        "outputId": "0514dea9-5551-493c-ae0d-efb1374475da"
      },
      "outputs": [
        {
          "data": {
            "text/plain": [
              "0    1\n",
              "1    0\n",
              "2    1\n",
              "3    0\n",
              "4    1\n",
              "Name: Outcome, dtype: int64"
            ]
          },
          "execution_count": 45,
          "metadata": {},
          "output_type": "execute_result"
        }
      ],
      "source": [
        "# Removing the columns which are correlated\n",
        "x2 = df1.drop(['Pregnancies','SkinThickness','Outcome'],axis = \"columns\")\n",
        "y2 = df1.iloc[:,-1]\n",
        "y2.head()"
      ]
    },
    {
      "cell_type": "code",
      "execution_count": null,
      "id": "0889d294",
      "metadata": {
        "id": "0889d294",
        "outputId": "f92a1d28-e2b3-4127-fef6-f4614d7ff31f"
      },
      "outputs": [
        {
          "data": {
            "text/plain": [
              "array([[148.   ,  72.   ,   0.   ,  33.6  ,   0.627,  50.   ],\n",
              "       [ 85.   ,  66.   ,   0.   ,  26.6  ,   0.351,  31.   ],\n",
              "       [183.   ,  64.   ,   0.   ,  23.3  ,   0.672,  32.   ],\n",
              "       ...,\n",
              "       [121.   ,  72.   , 112.   ,  26.2  ,   0.245,  30.   ],\n",
              "       [126.   ,  60.   ,   0.   ,  30.1  ,   0.349,  47.   ],\n",
              "       [ 93.   ,  70.   ,   0.   ,  30.4  ,   0.315,  23.   ]])"
            ]
          },
          "execution_count": 78,
          "metadata": {},
          "output_type": "execute_result"
        }
      ],
      "source": [
        "x3 = x2.iloc[:,:].values\n",
        "x3"
      ]
    },
    {
      "cell_type": "code",
      "execution_count": null,
      "id": "6ced0ba5",
      "metadata": {
        "id": "6ced0ba5"
      },
      "outputs": [],
      "source": [
        "x2_train, x2_test, y2_train, y2_test = train_test_split( x2, y2, test_size=0.3, random_state=0)"
      ]
    },
    {
      "cell_type": "code",
      "execution_count": null,
      "id": "841892ae",
      "metadata": {
        "scrolled": false,
        "id": "841892ae",
        "outputId": "e9d1439d-05dd-4473-9686-c2402f3c9564"
      },
      "outputs": [
        {
          "data": {
            "text/html": [
              "<div>\n",
              "<style scoped>\n",
              "    .dataframe tbody tr th:only-of-type {\n",
              "        vertical-align: middle;\n",
              "    }\n",
              "\n",
              "    .dataframe tbody tr th {\n",
              "        vertical-align: top;\n",
              "    }\n",
              "\n",
              "    .dataframe thead th {\n",
              "        text-align: right;\n",
              "    }\n",
              "</style>\n",
              "<table border=\"1\" class=\"dataframe\">\n",
              "  <thead>\n",
              "    <tr style=\"text-align: right;\">\n",
              "      <th></th>\n",
              "      <th>Glucose</th>\n",
              "      <th>BloodPressure</th>\n",
              "      <th>Insulin</th>\n",
              "      <th>BMI</th>\n",
              "      <th>DiabetesPedigreeFunction</th>\n",
              "      <th>Age</th>\n",
              "    </tr>\n",
              "  </thead>\n",
              "  <tbody>\n",
              "    <tr>\n",
              "      <th>580</th>\n",
              "      <td>151</td>\n",
              "      <td>90</td>\n",
              "      <td>0</td>\n",
              "      <td>42.1</td>\n",
              "      <td>0.371</td>\n",
              "      <td>21</td>\n",
              "    </tr>\n",
              "    <tr>\n",
              "      <th>418</th>\n",
              "      <td>83</td>\n",
              "      <td>68</td>\n",
              "      <td>0</td>\n",
              "      <td>18.2</td>\n",
              "      <td>0.624</td>\n",
              "      <td>27</td>\n",
              "    </tr>\n",
              "    <tr>\n",
              "      <th>764</th>\n",
              "      <td>122</td>\n",
              "      <td>70</td>\n",
              "      <td>0</td>\n",
              "      <td>36.8</td>\n",
              "      <td>0.340</td>\n",
              "      <td>27</td>\n",
              "    </tr>\n",
              "  </tbody>\n",
              "</table>\n",
              "</div>"
            ],
            "text/plain": [
              "     Glucose  BloodPressure  Insulin   BMI  DiabetesPedigreeFunction  Age\n",
              "580      151             90        0  42.1                     0.371   21\n",
              "418       83             68        0  18.2                     0.624   27\n",
              "764      122             70        0  36.8                     0.340   27"
            ]
          },
          "execution_count": 80,
          "metadata": {},
          "output_type": "execute_result"
        }
      ],
      "source": [
        "x2_train.head(3)"
      ]
    },
    {
      "cell_type": "code",
      "execution_count": null,
      "id": "3cf691ab",
      "metadata": {
        "scrolled": true,
        "id": "3cf691ab",
        "outputId": "bff3e8c9-5609-486f-8a00-63728bf28398"
      },
      "outputs": [
        {
          "data": {
            "text/html": [
              "<div>\n",
              "<style scoped>\n",
              "    .dataframe tbody tr th:only-of-type {\n",
              "        vertical-align: middle;\n",
              "    }\n",
              "\n",
              "    .dataframe tbody tr th {\n",
              "        vertical-align: top;\n",
              "    }\n",
              "\n",
              "    .dataframe thead th {\n",
              "        text-align: right;\n",
              "    }\n",
              "</style>\n",
              "<table border=\"1\" class=\"dataframe\">\n",
              "  <thead>\n",
              "    <tr style=\"text-align: right;\">\n",
              "      <th></th>\n",
              "      <th>Glucose</th>\n",
              "      <th>BloodPressure</th>\n",
              "      <th>Insulin</th>\n",
              "      <th>BMI</th>\n",
              "      <th>DiabetesPedigreeFunction</th>\n",
              "      <th>Age</th>\n",
              "    </tr>\n",
              "  </thead>\n",
              "  <tbody>\n",
              "    <tr>\n",
              "      <th>661</th>\n",
              "      <td>199</td>\n",
              "      <td>76</td>\n",
              "      <td>0</td>\n",
              "      <td>42.9</td>\n",
              "      <td>1.394</td>\n",
              "      <td>22</td>\n",
              "    </tr>\n",
              "    <tr>\n",
              "      <th>122</th>\n",
              "      <td>107</td>\n",
              "      <td>74</td>\n",
              "      <td>100</td>\n",
              "      <td>33.6</td>\n",
              "      <td>0.404</td>\n",
              "      <td>23</td>\n",
              "    </tr>\n",
              "    <tr>\n",
              "      <th>113</th>\n",
              "      <td>76</td>\n",
              "      <td>62</td>\n",
              "      <td>0</td>\n",
              "      <td>34.0</td>\n",
              "      <td>0.391</td>\n",
              "      <td>25</td>\n",
              "    </tr>\n",
              "    <tr>\n",
              "      <th>14</th>\n",
              "      <td>166</td>\n",
              "      <td>72</td>\n",
              "      <td>175</td>\n",
              "      <td>25.8</td>\n",
              "      <td>0.587</td>\n",
              "      <td>51</td>\n",
              "    </tr>\n",
              "    <tr>\n",
              "      <th>529</th>\n",
              "      <td>111</td>\n",
              "      <td>65</td>\n",
              "      <td>0</td>\n",
              "      <td>24.6</td>\n",
              "      <td>0.660</td>\n",
              "      <td>31</td>\n",
              "    </tr>\n",
              "  </tbody>\n",
              "</table>\n",
              "</div>"
            ],
            "text/plain": [
              "     Glucose  BloodPressure  Insulin   BMI  DiabetesPedigreeFunction  Age\n",
              "661      199             76        0  42.9                     1.394   22\n",
              "122      107             74      100  33.6                     0.404   23\n",
              "113       76             62        0  34.0                     0.391   25\n",
              "14       166             72      175  25.8                     0.587   51\n",
              "529      111             65        0  24.6                     0.660   31"
            ]
          },
          "execution_count": 81,
          "metadata": {},
          "output_type": "execute_result"
        }
      ],
      "source": [
        "x2_test.head()"
      ]
    },
    {
      "cell_type": "code",
      "execution_count": null,
      "id": "e4a7e163",
      "metadata": {
        "id": "e4a7e163"
      },
      "outputs": [],
      "source": [
        "from sklearn.preprocessing import StandardScaler\n",
        "sc = StandardScaler()\n",
        "x2_train = sc.fit_transform(x2_train)\n",
        "x2_test = sc.fit_transform(x2_test)\n",
        "x4 = sc.fit_transform(x3)"
      ]
    },
    {
      "cell_type": "code",
      "execution_count": null,
      "id": "78543219",
      "metadata": {
        "id": "78543219",
        "outputId": "5cfcab7b-a2be-4d41-9f8a-3b365c113e46"
      },
      "outputs": [
        {
          "data": {
            "text/plain": [
              "0.255834768661379"
            ]
          },
          "execution_count": 83,
          "metadata": {},
          "output_type": "execute_result"
        }
      ],
      "source": [
        "from sklearn.linear_model import LinearRegression\n",
        "model = LinearRegression()\n",
        "model.fit(x2_train,y2_train)\n",
        "model.score(x2_test,y2_test)"
      ]
    },
    {
      "cell_type": "code",
      "execution_count": null,
      "id": "5abc526b",
      "metadata": {
        "id": "5abc526b",
        "outputId": "916319e2-f67d-40d2-e315-f83f56fe14d8"
      },
      "outputs": [
        {
          "data": {
            "text/plain": [
              "array([0.28960467, 0.28414897, 0.29870731, 0.27379847, 0.22813688])"
            ]
          },
          "execution_count": 88,
          "metadata": {},
          "output_type": "execute_result"
        }
      ],
      "source": [
        "from sklearn.model_selection import ShuffleSplit\n",
        "from sklearn.model_selection import cross_val_score\n",
        "\n",
        "cv = ShuffleSplit(n_splits=5 , test_size = 0.2 , random_state = 0)\n",
        "cross_val_score(LinearRegression(),x4,y2,cv = cv)"
      ]
    },
    {
      "cell_type": "code",
      "execution_count": null,
      "id": "ebc07a3e",
      "metadata": {
        "id": "ebc07a3e"
      },
      "outputs": [],
      "source": [
        "from sklearn.model_selection import GridSearchCV\n",
        "from sklearn.linear_model import Lasso\n",
        "from sklearn.tree import DecisionTreeRegressor\n",
        "from sklearn import svm\n",
        "from sklearn.naive_bayes import GaussianNB\n",
        "\n",
        "def find_best_model_using_gridsearch(x,y):\n",
        "    algos = {\n",
        "        'linear_regression':{\n",
        "            'model': LinearRegression(),\n",
        "            'params':{\n",
        "                'normalize': [True, False]\n",
        "            }\n",
        "        },\n",
        "        'GaussianNB': {\n",
        "            'model':GaussianNB(),\n",
        "            'params': {\n",
        "                'var_smoothing': np.logspace(0,-9, num=100)\n",
        "            }\n",
        "        },\n",
        "        'svm': {\n",
        "            'model':svm.SVC(gamma='auto'),\n",
        "            'params': {\n",
        "                'C':[1,10,20],\n",
        "                'kernel':['rbf','linear']\n",
        "            }\n",
        "        },\n",
        "        'lasso':{\n",
        "            'model': Lasso(),\n",
        "            'params':{\n",
        "                'alpha' : [1,2],\n",
        "                'selection':['random','cyclic']\n",
        "            }\n",
        "        },\n",
        "        'decision_tree':{\n",
        "            'model': DecisionTreeRegressor(),\n",
        "            'params':{\n",
        "                'criterion':['mse','friedman_mse'],\n",
        "                'splitter':['best','random']\n",
        "            }\n",
        "        }\n",
        "    }\n",
        "    \n",
        "    scores = []\n",
        "    cv = ShuffleSplit(n_splits=5,test_size=0.2,random_state=0)\n",
        "    for algo_name, config in algos.items():\n",
        "        gs = GridSearchCV(config['model'],config['params'], cv=cv, return_train_score=False)     # GridSearchCV is the main focus as it helps to try out the different parameters for the different models.\n",
        "        gs.fit(x,y)\n",
        "        scores.append({\n",
        "            'model': algo_name,\n",
        "            'best_score':gs.best_score_,\n",
        "            'best_params':gs.best_params_\n",
        "        })\n",
        "    return pd.DataFrame(scores,columns=['model','best_score','best_params'])     # At last binding the results of the models with best params. into a DataFrame.    "
      ]
    },
    {
      "cell_type": "code",
      "execution_count": null,
      "id": "015c465d",
      "metadata": {
        "id": "015c465d",
        "outputId": "ac565165-ffee-4334-a9e3-cdd3e1e21e87"
      },
      "outputs": [
        {
          "data": {
            "text/html": [
              "<div>\n",
              "<style scoped>\n",
              "    .dataframe tbody tr th:only-of-type {\n",
              "        vertical-align: middle;\n",
              "    }\n",
              "\n",
              "    .dataframe tbody tr th {\n",
              "        vertical-align: top;\n",
              "    }\n",
              "\n",
              "    .dataframe thead th {\n",
              "        text-align: right;\n",
              "    }\n",
              "</style>\n",
              "<table border=\"1\" class=\"dataframe\">\n",
              "  <thead>\n",
              "    <tr style=\"text-align: right;\">\n",
              "      <th></th>\n",
              "      <th>model</th>\n",
              "      <th>best_score</th>\n",
              "      <th>best_params</th>\n",
              "    </tr>\n",
              "  </thead>\n",
              "  <tbody>\n",
              "    <tr>\n",
              "      <th>0</th>\n",
              "      <td>linear_regression</td>\n",
              "      <td>0.274879</td>\n",
              "      <td>{'normalize': True}</td>\n",
              "    </tr>\n",
              "    <tr>\n",
              "      <th>1</th>\n",
              "      <td>GaussianNB</td>\n",
              "      <td>0.763636</td>\n",
              "      <td>{'var_smoothing': 0.1873817422860384}</td>\n",
              "    </tr>\n",
              "    <tr>\n",
              "      <th>2</th>\n",
              "      <td>svm</td>\n",
              "      <td>0.787013</td>\n",
              "      <td>{'C': 10, 'kernel': 'linear'}</td>\n",
              "    </tr>\n",
              "    <tr>\n",
              "      <th>3</th>\n",
              "      <td>lasso</td>\n",
              "      <td>-0.013568</td>\n",
              "      <td>{'alpha': 1, 'selection': 'random'}</td>\n",
              "    </tr>\n",
              "    <tr>\n",
              "      <th>4</th>\n",
              "      <td>decision_tree</td>\n",
              "      <td>-0.290645</td>\n",
              "      <td>{'criterion': 'mse', 'splitter': 'best'}</td>\n",
              "    </tr>\n",
              "  </tbody>\n",
              "</table>\n",
              "</div>"
            ],
            "text/plain": [
              "               model  best_score                               best_params\n",
              "0  linear_regression    0.274879                       {'normalize': True}\n",
              "1         GaussianNB    0.763636     {'var_smoothing': 0.1873817422860384}\n",
              "2                svm    0.787013             {'C': 10, 'kernel': 'linear'}\n",
              "3              lasso   -0.013568       {'alpha': 1, 'selection': 'random'}\n",
              "4      decision_tree   -0.290645  {'criterion': 'mse', 'splitter': 'best'}"
            ]
          },
          "execution_count": 90,
          "metadata": {},
          "output_type": "execute_result"
        }
      ],
      "source": [
        "find_best_model_using_gridsearch(x4,y2)"
      ]
    },
    {
      "cell_type": "code",
      "execution_count": null,
      "id": "fdc79f07",
      "metadata": {
        "id": "fdc79f07"
      },
      "outputs": [],
      "source": [
        "best_model = svm.SVC(C = 1.0, kernel='linear')"
      ]
    },
    {
      "cell_type": "code",
      "execution_count": null,
      "id": "d52e8559",
      "metadata": {
        "id": "d52e8559",
        "outputId": "69f7fbcc-182b-4fbc-c626-6fc36a507c1f"
      },
      "outputs": [
        {
          "data": {
            "text/plain": [
              "SVC(kernel='linear')"
            ]
          },
          "execution_count": 92,
          "metadata": {},
          "output_type": "execute_result"
        }
      ],
      "source": [
        "best_model.fit(x2_train,y2_train)"
      ]
    },
    {
      "cell_type": "code",
      "execution_count": null,
      "id": "5fc8a2e9",
      "metadata": {
        "id": "5fc8a2e9",
        "outputId": "2e3f4c7a-b2b1-4373-b160-7bae5b7f1ea5"
      },
      "outputs": [
        {
          "data": {
            "text/plain": [
              "0.7835497835497836"
            ]
          },
          "execution_count": 93,
          "metadata": {},
          "output_type": "execute_result"
        }
      ],
      "source": [
        "best_model.score(x2_test,y2_test)"
      ]
    },
    {
      "cell_type": "code",
      "execution_count": null,
      "id": "70612d20",
      "metadata": {
        "id": "70612d20",
        "outputId": "40f6ef41-4dcb-4d9f-da91-2d2f3851bfea"
      },
      "outputs": [
        {
          "data": {
            "text/plain": [
              "array([[140,  17],\n",
              "       [ 33,  41]], dtype=int64)"
            ]
          },
          "execution_count": 94,
          "metadata": {},
          "output_type": "execute_result"
        }
      ],
      "source": [
        "from sklearn.metrics import confusion_matrix\n",
        "cm = confusion_matrix(y2_test, best_model.predict(x2_test))\n",
        "cm"
      ]
    },
    {
      "cell_type": "code",
      "execution_count": null,
      "id": "32e3e46b",
      "metadata": {
        "scrolled": true,
        "id": "32e3e46b",
        "outputId": "c5f876ff-f17f-45d2-f7ce-71bf14a4dc04"
      },
      "outputs": [
        {
          "data": {
            "image/png": "[encoded data removed]",
            "text/plain": [
              "<Figure size 432x432 with 2 Axes>"
            ]
          },
          "metadata": {
            "needs_background": "light"
          },
          "output_type": "display_data"
        }
      ],
      "source": [
        "plt.figure(figsize=(6,6))\n",
        "sns.heatmap(cm, annot=True)\n",
        "plt.xlabel(\"predicted\")\n",
        "plt.ylabel(\"Truth\")\n",
        "plt.show()"
      ]
    },
    {
      "cell_type": "code",
      "execution_count": null,
      "id": "0e72a53e",
      "metadata": {
        "id": "0e72a53e"
      },
      "outputs": [],
      "source": [
        "import pickle"
      ]
    },
    {
      "cell_type": "code",
      "execution_count": null,
      "id": "5b0e9b68",
      "metadata": {
        "id": "5b0e9b68"
      },
      "outputs": [],
      "source": [
        "with open('best_model_pickle','wb') as f:\n",
        "    pickle.dump(best_model,f)"
      ]
    },
    {
      "cell_type": "code",
      "execution_count": null,
      "id": "af4ee89e",
      "metadata": {
        "id": "af4ee89e"
      },
      "outputs": [],
      "source": [
        "with open('best_model_pickle','rb') as f:\n",
        "    bm = pickle.load(f)"
      ]
    },
    {
      "cell_type": "code",
      "execution_count": null,
      "id": "c4e60788",
      "metadata": {
        "id": "c4e60788",
        "outputId": "13cc46a9-959c-4b3b-8033-150f7af5bcf1"
      },
      "outputs": [
        {
          "data": {
            "text/plain": [
              "array([[148.   ,  66.   ,   0.   ,  26.6  ,   0.351,  50.   ]])"
            ]
          },
          "execution_count": 118,
          "metadata": {},
          "output_type": "execute_result"
        }
      ],
      "source": [
        "n = np.array([[148,66,0,26.6,0.351,50]]).reshape(1,-1)\n",
        "n"
      ]
    },
    {
      "cell_type": "code",
      "execution_count": null,
      "id": "0602275c",
      "metadata": {
        "id": "0602275c",
        "outputId": "d434ad35-b227-40a2-88e4-7a43d456c1fc"
      },
      "outputs": [
        {
          "data": {
            "text/plain": [
              "array([[ 0.84832379, -0.16054575, -0.69289057, -0.68442195, -0.36506078,\n",
              "         1.4259954 ]])"
            ]
          },
          "execution_count": 119,
          "metadata": {},
          "output_type": "execute_result"
        }
      ],
      "source": [
        "n_scale = sc.transform(n)\n",
        "n_scale"
      ]
    },
    {
      "cell_type": "code",
      "execution_count": null,
      "id": "98edf464",
      "metadata": {
        "id": "98edf464",
        "outputId": "69487e97-e1c6-4d77-db68-ed72f6eaf5b6"
      },
      "outputs": [
        {
          "data": {
            "text/plain": [
              "1"
            ]
          },
          "execution_count": 120,
          "metadata": {},
          "output_type": "execute_result"
        }
      ],
      "source": [
        "bm.predict(n_scale)[0]"
      ]
    },
    {
      "cell_type": "code",
      "execution_count": null,
      "id": "3acc7878",
      "metadata": {
        "id": "3acc7878"
      },
      "outputs": [],
      "source": [
        ""
      ]
    }
  ],
  "metadata": {
    "kernelspec": {
      "display_name": "Python 3",
      "language": "python",
      "name": "python3"
    },
    "language_info": {
      "codemirror_mode": {
        "name": "ipython",
        "version": 3
      },
      "file_extension": ".py",
      "mimetype": "text/x-python",
      "name": "python",
      "nbconvert_exporter": "python",
      "pygments_lexer": "ipython3",
      "version": "3.8.8"
    },
    "colab": {
      "name": "Project_2.ipynb",
      "provenance": []
    }
  },
  "nbformat": 4,
  "nbformat_minor": 5
}